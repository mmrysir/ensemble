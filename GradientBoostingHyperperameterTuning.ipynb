{
 "cells": [
  {
   "cell_type": "code",
   "execution_count": 3,
   "metadata": {},
   "outputs": [],
   "source": [
    "import pandas as pd\n",
    "import numpy as np\n",
    "import seaborn as sns\n",
    "import matplotlib.pyplot as plt\n",
    "\n",
    "from sklearn.model_selection import train_test_split \n",
    "\n",
    "from sklearn.metrics import r2_score\n",
    "from sklearn.metrics import mean_squared_error\n",
    "\n",
    "from sklearn.ensemble import GradientBoostingRegressor\n",
    "\n",
    "from sklearn.model_selection import GridSearchCV"
   ]
  },
  {
   "cell_type": "code",
   "execution_count": 4,
   "metadata": {},
   "outputs": [
    {
     "data": {
      "text/html": [
       "<div>\n",
       "<style scoped>\n",
       "    .dataframe tbody tr th:only-of-type {\n",
       "        vertical-align: middle;\n",
       "    }\n",
       "\n",
       "    .dataframe tbody tr th {\n",
       "        vertical-align: top;\n",
       "    }\n",
       "\n",
       "    .dataframe thead th {\n",
       "        text-align: right;\n",
       "    }\n",
       "</style>\n",
       "<table border=\"1\" class=\"dataframe\">\n",
       "  <thead>\n",
       "    <tr style=\"text-align: right;\">\n",
       "      <th></th>\n",
       "      <th>cement</th>\n",
       "      <th>slag</th>\n",
       "      <th>flyash</th>\n",
       "      <th>water</th>\n",
       "      <th>superplasticizer</th>\n",
       "      <th>coarseaggregate</th>\n",
       "      <th>fineaggregate</th>\n",
       "      <th>age</th>\n",
       "      <th>csMPa</th>\n",
       "    </tr>\n",
       "  </thead>\n",
       "  <tbody>\n",
       "    <tr>\n",
       "      <th>0</th>\n",
       "      <td>540.0</td>\n",
       "      <td>0.0</td>\n",
       "      <td>0.0</td>\n",
       "      <td>162.0</td>\n",
       "      <td>2.5</td>\n",
       "      <td>1040.0</td>\n",
       "      <td>676.0</td>\n",
       "      <td>28</td>\n",
       "      <td>79.99</td>\n",
       "    </tr>\n",
       "    <tr>\n",
       "      <th>1</th>\n",
       "      <td>540.0</td>\n",
       "      <td>0.0</td>\n",
       "      <td>0.0</td>\n",
       "      <td>162.0</td>\n",
       "      <td>2.5</td>\n",
       "      <td>1055.0</td>\n",
       "      <td>676.0</td>\n",
       "      <td>28</td>\n",
       "      <td>61.89</td>\n",
       "    </tr>\n",
       "    <tr>\n",
       "      <th>2</th>\n",
       "      <td>332.5</td>\n",
       "      <td>142.5</td>\n",
       "      <td>0.0</td>\n",
       "      <td>228.0</td>\n",
       "      <td>0.0</td>\n",
       "      <td>932.0</td>\n",
       "      <td>594.0</td>\n",
       "      <td>270</td>\n",
       "      <td>40.27</td>\n",
       "    </tr>\n",
       "    <tr>\n",
       "      <th>3</th>\n",
       "      <td>332.5</td>\n",
       "      <td>142.5</td>\n",
       "      <td>0.0</td>\n",
       "      <td>228.0</td>\n",
       "      <td>0.0</td>\n",
       "      <td>932.0</td>\n",
       "      <td>594.0</td>\n",
       "      <td>365</td>\n",
       "      <td>41.05</td>\n",
       "    </tr>\n",
       "    <tr>\n",
       "      <th>4</th>\n",
       "      <td>198.6</td>\n",
       "      <td>132.4</td>\n",
       "      <td>0.0</td>\n",
       "      <td>192.0</td>\n",
       "      <td>0.0</td>\n",
       "      <td>978.4</td>\n",
       "      <td>825.5</td>\n",
       "      <td>360</td>\n",
       "      <td>44.30</td>\n",
       "    </tr>\n",
       "  </tbody>\n",
       "</table>\n",
       "</div>"
      ],
      "text/plain": [
       "   cement   slag  flyash  water  superplasticizer  coarseaggregate  \\\n",
       "0   540.0    0.0     0.0  162.0               2.5           1040.0   \n",
       "1   540.0    0.0     0.0  162.0               2.5           1055.0   \n",
       "2   332.5  142.5     0.0  228.0               0.0            932.0   \n",
       "3   332.5  142.5     0.0  228.0               0.0            932.0   \n",
       "4   198.6  132.4     0.0  192.0               0.0            978.4   \n",
       "\n",
       "   fineaggregate  age  csMPa  \n",
       "0          676.0   28  79.99  \n",
       "1          676.0   28  61.89  \n",
       "2          594.0  270  40.27  \n",
       "3          594.0  365  41.05  \n",
       "4          825.5  360  44.30  "
      ]
     },
     "execution_count": 4,
     "metadata": {},
     "output_type": "execute_result"
    }
   ],
   "source": [
    "concrete_data = pd.read_csv('Concrete_Data_Yeh.csv')\n",
    "concrete_data.head()"
   ]
  },
  {
   "cell_type": "code",
   "execution_count": 5,
   "metadata": {},
   "outputs": [],
   "source": [
    "X = concrete_data.drop('csMPa', axis =1)\n",
    "Y = concrete_data['csMPa']"
   ]
  },
  {
   "cell_type": "code",
   "execution_count": 7,
   "metadata": {},
   "outputs": [],
   "source": [
    "X = X.drop(['flyash', 'coarseaggregate','fineaggregate'], axis=1)"
   ]
  },
  {
   "cell_type": "code",
   "execution_count": 8,
   "metadata": {},
   "outputs": [],
   "source": [
    "x_train ,x_test, y_train, y_test = train_test_split(X, Y, test_size=0.2)"
   ]
  },
  {
   "cell_type": "code",
   "execution_count": 10,
   "metadata": {},
   "outputs": [
    {
     "data": {
      "text/plain": [
       "GradientBoostingRegressor(alpha=0.9, criterion='friedman_mse', init=None,\n",
       "             learning_rate=0.1, loss='ls', max_depth=3, max_features=None,\n",
       "             max_leaf_nodes=None, min_impurity_decrease=0.0,\n",
       "             min_impurity_split=None, min_samples_leaf=1,\n",
       "             min_samples_split=2, min_weight_fraction_leaf=0.0,\n",
       "             n_estimators=50, n_iter_no_change=None, presort='auto',\n",
       "             random_state=None, subsample=1.0, tol=0.0001,\n",
       "             validation_fraction=0.1, verbose=0, warm_start=False)"
      ]
     },
     "execution_count": 10,
     "metadata": {},
     "output_type": "execute_result"
    }
   ],
   "source": [
    "baseline = GradientBoostingRegressor(max_depth=3, n_estimators=50)\n",
    "baseline.fit(x_train, y_train)"
   ]
  },
  {
   "cell_type": "code",
   "execution_count": 12,
   "metadata": {},
   "outputs": [
    {
     "data": {
      "text/plain": [
       "0.8676408063940424"
      ]
     },
     "execution_count": 12,
     "metadata": {},
     "output_type": "execute_result"
    }
   ],
   "source": [
    "y_pred = baseline.predict(x_test)\n",
    "r2_score(y_test, y_pred)"
   ]
  },
  {
   "cell_type": "code",
   "execution_count": 13,
   "metadata": {},
   "outputs": [
    {
     "data": {
      "text/plain": [
       "age                 0.382224\n",
       "cement              0.347722\n",
       "water               0.097515\n",
       "slag                0.097084\n",
       "superplasticizer    0.075455\n",
       "dtype: float64"
      ]
     },
     "execution_count": 13,
     "metadata": {},
     "output_type": "execute_result"
    }
   ],
   "source": [
    "important_features = pd.Series(baseline.feature_importances_, index=X.columns).\\\n",
    "                    sort_values(ascending=False)\n",
    "\n",
    "important_features\n"
   ]
  },
  {
   "cell_type": "code",
   "execution_count": 15,
   "metadata": {},
   "outputs": [],
   "source": [
    "gbr = GradientBoostingRegressor(max_depth=3)"
   ]
  },
  {
   "cell_type": "code",
   "execution_count": 16,
   "metadata": {},
   "outputs": [],
   "source": [
    "parameters ={'n_estimators':[1,5,10,50,100,200,300,400,500]}\n",
    " =GridSearchCV(estimator=gbr, param_grid=parameters, cv=3)"
   ]
  },
  {
   "cell_type": "code",
   "execution_count": 17,
   "metadata": {},
   "outputs": [
    {
     "data": {
      "text/plain": [
       "GridSearchCV(cv=3, error_score='raise-deprecating',\n",
       "       estimator=GradientBoostingRegressor(alpha=0.9, criterion='friedman_mse', init=None,\n",
       "             learning_rate=0.1, loss='ls', max_depth=3, max_features=None,\n",
       "             max_leaf_nodes=None, min_impurity_decrease=0.0,\n",
       "             min_impurity_split=None, min_samples_leaf=1,\n",
       "             min_sampl...=None, subsample=1.0, tol=0.0001,\n",
       "             validation_fraction=0.1, verbose=0, warm_start=False),\n",
       "       fit_params=None, iid='warn', n_jobs=None,\n",
       "       param_grid={'n_estimators': [1, 5, 10, 50, 100, 200, 300, 400, 500]},\n",
       "       pre_dispatch='2*n_jobs', refit=True, return_train_score='warn',\n",
       "       scoring=None, verbose=0)"
      ]
     },
     "execution_count": 17,
     "metadata": {},
     "output_type": "execute_result"
    }
   ],
   "source": [
    "gridsearch_reg.fit(x_train, y_train)"
   ]
  },
  {
   "cell_type": "code",
   "execution_count": 18,
   "metadata": {},
   "outputs": [
    {
     "data": {
      "text/plain": [
       "{'n_estimators': 500}"
      ]
     },
     "execution_count": 18,
     "metadata": {},
     "output_type": "execute_result"
    }
   ],
   "source": [
    "gridsearch_reg.best_params_"
   ]
  },
  {
   "cell_type": "code",
   "execution_count": 19,
   "metadata": {},
   "outputs": [
    {
     "data": {
      "text/plain": [
       "GradientBoostingRegressor(alpha=0.9, criterion='friedman_mse', init=None,\n",
       "             learning_rate=0.1, loss='ls', max_depth=3, max_features=None,\n",
       "             max_leaf_nodes=None, min_impurity_decrease=0.0,\n",
       "             min_impurity_split=None, min_samples_leaf=1,\n",
       "             min_samples_split=2, min_weight_fraction_leaf=0.0,\n",
       "             n_estimators=500, n_iter_no_change=None, presort='auto',\n",
       "             random_state=None, subsample=1.0, tol=0.0001,\n",
       "             validation_fraction=0.1, verbose=0, warm_start=False)"
      ]
     },
     "execution_count": 19,
     "metadata": {},
     "output_type": "execute_result"
    }
   ],
   "source": [
    "gbr_best = GradientBoostingRegressor(max_depth=3, n_estimators = gridsearch_reg.best_params_['n_estimators'])\n",
    "gbr_best.fit(x_train, y_train)"
   ]
  },
  {
   "cell_type": "code",
   "execution_count": 20,
   "metadata": {},
   "outputs": [
    {
     "data": {
      "text/plain": [
       "0.9321245639615986"
      ]
     },
     "execution_count": 20,
     "metadata": {},
     "output_type": "execute_result"
    }
   ],
   "source": [
    "y_pred = gbr_best.predict(x_test)\n",
    "r2_score(y_test, y_pred)"
   ]
  },
  {
   "cell_type": "code",
   "execution_count": 22,
   "metadata": {},
   "outputs": [],
   "source": [
    "gbr_best = GradientBoostingRegressor(max_depth=3, warm_start=True)"
   ]
  },
  {
   "cell_type": "code",
   "execution_count": 30,
   "metadata": {},
   "outputs": [
    {
     "name": "stdout",
     "output_type": "stream",
     "text": [
      "No. of estimators: 1\n",
      "Validation error 245.51245081171714\n",
      "No. of estimators: 2\n",
      "Validation error 220.36326337530352\n",
      "No. of estimators: 3\n",
      "Validation error 199.78988304013953\n",
      "No. of estimators: 4\n",
      "Validation error 178.11169887772397\n",
      "No. of estimators: 5\n",
      "Validation error 160.04085885670062\n",
      "No. of estimators: 6\n",
      "Validation error 146.5732501113348\n",
      "No. of estimators: 7\n",
      "Validation error 134.6639559299548\n",
      "No. of estimators: 8\n",
      "Validation error 124.63317886163496\n",
      "No. of estimators: 9\n",
      "Validation error 116.29815254782477\n",
      "No. of estimators: 10\n",
      "Validation error 109.71325122362087\n",
      "No. of estimators: 11\n",
      "Validation error 103.99307520328775\n",
      "No. of estimators: 12\n",
      "Validation error 97.29943406750822\n",
      "No. of estimators: 13\n",
      "Validation error 92.10458394625957\n",
      "No. of estimators: 14\n",
      "Validation error 87.00784953236105\n",
      "No. of estimators: 15\n",
      "Validation error 82.3259316564592\n",
      "No. of estimators: 16\n",
      "Validation error 78.7572646093002\n",
      "No. of estimators: 17\n",
      "Validation error 75.01719827156019\n",
      "No. of estimators: 18\n",
      "Validation error 71.68645562636469\n",
      "No. of estimators: 19\n",
      "Validation error 68.17310210619117\n",
      "No. of estimators: 20\n",
      "Validation error 65.14655367340123\n",
      "No. of estimators: 21\n",
      "Validation error 62.6866572664649\n",
      "No. of estimators: 22\n",
      "Validation error 61.00788634338253\n",
      "No. of estimators: 23\n",
      "Validation error 59.11555301096655\n",
      "No. of estimators: 24\n",
      "Validation error 57.09305246968933\n",
      "No. of estimators: 25\n",
      "Validation error 55.086858928937204\n",
      "No. of estimators: 26\n",
      "Validation error 53.95562770262201\n",
      "No. of estimators: 27\n",
      "Validation error 52.40712719379094\n",
      "No. of estimators: 28\n",
      "Validation error 50.772495902540065\n",
      "No. of estimators: 29\n",
      "Validation error 49.21686716477142\n",
      "No. of estimators: 30\n",
      "Validation error 48.18091950168085\n",
      "No. of estimators: 31\n",
      "Validation error 47.15735333537849\n",
      "No. of estimators: 32\n",
      "Validation error 46.066108815208615\n",
      "No. of estimators: 33\n",
      "Validation error 44.960189276954395\n",
      "No. of estimators: 34\n",
      "Validation error 44.09613776138046\n",
      "No. of estimators: 35\n",
      "Validation error 43.5936655995276\n",
      "No. of estimators: 36\n",
      "Validation error 42.978834904802675\n",
      "No. of estimators: 37\n",
      "Validation error 42.40478710144106\n",
      "No. of estimators: 38\n",
      "Validation error 41.92357447223042\n",
      "No. of estimators: 39\n",
      "Validation error 41.22431893155178\n",
      "No. of estimators: 40\n",
      "Validation error 40.643875407920824\n",
      "No. of estimators: 41\n",
      "Validation error 40.07339212342369\n",
      "No. of estimators: 42\n",
      "Validation error 39.68553911761585\n",
      "No. of estimators: 43\n",
      "Validation error 39.076475801727405\n",
      "No. of estimators: 44\n",
      "Validation error 38.64741046741817\n",
      "No. of estimators: 45\n",
      "Validation error 38.345248620248086\n",
      "No. of estimators: 46\n",
      "Validation error 37.91456502982533\n",
      "No. of estimators: 47\n",
      "Validation error 37.62215088072215\n",
      "No. of estimators: 48\n",
      "Validation error 37.321949989415515\n",
      "No. of estimators: 49\n",
      "Validation error 37.04192177610054\n",
      "No. of estimators: 50\n",
      "Validation error 36.66088189324934\n",
      "No. of estimators: 51\n",
      "Validation error 36.50215668006539\n",
      "No. of estimators: 52\n",
      "Validation error 36.010130791096735\n",
      "No. of estimators: 53\n",
      "Validation error 35.7191097088786\n",
      "No. of estimators: 54\n",
      "Validation error 35.473569546244185\n",
      "No. of estimators: 55\n",
      "Validation error 35.180153056900885\n",
      "No. of estimators: 56\n",
      "Validation error 34.973581808374085\n",
      "No. of estimators: 57\n",
      "Validation error 34.87247916953789\n",
      "No. of estimators: 58\n",
      "Validation error 34.648436572300604\n",
      "No. of estimators: 59\n",
      "Validation error 34.334876867906196\n",
      "No. of estimators: 60\n",
      "Validation error 34.11236209953971\n",
      "No. of estimators: 61\n",
      "Validation error 33.918809837587744\n",
      "No. of estimators: 62\n",
      "Validation error 33.68633020812764\n",
      "No. of estimators: 63\n",
      "Validation error 33.46314827439226\n",
      "No. of estimators: 64\n",
      "Validation error 33.24068778288038\n",
      "No. of estimators: 65\n",
      "Validation error 33.05176122311871\n",
      "No. of estimators: 66\n",
      "Validation error 32.670916148833506\n",
      "No. of estimators: 67\n",
      "Validation error 32.55068834440553\n",
      "No. of estimators: 68\n",
      "Validation error 32.471573236074605\n",
      "No. of estimators: 69\n",
      "Validation error 32.41203841508907\n",
      "No. of estimators: 70\n",
      "Validation error 32.13827938161892\n",
      "No. of estimators: 71\n",
      "Validation error 31.960956323514164\n",
      "No. of estimators: 72\n",
      "Validation error 31.801684078914256\n",
      "No. of estimators: 73\n",
      "Validation error 31.761042984272702\n",
      "No. of estimators: 74\n",
      "Validation error 31.689516746343983\n",
      "No. of estimators: 75\n",
      "Validation error 31.256622661804634\n",
      "No. of estimators: 76\n",
      "Validation error 31.189882074209688\n",
      "No. of estimators: 77\n",
      "Validation error 31.120824956063586\n",
      "No. of estimators: 78\n",
      "Validation error 30.787808228516386\n",
      "No. of estimators: 79\n",
      "Validation error 30.74982458622378\n",
      "No. of estimators: 80\n",
      "Validation error 30.69971206408488\n",
      "No. of estimators: 81\n",
      "Validation error 30.588597909716977\n",
      "No. of estimators: 82\n",
      "Validation error 30.50160712396615\n",
      "No. of estimators: 83\n",
      "Validation error 30.51371356673266\n",
      "No. of estimators: 84\n",
      "Validation error 30.319672179713237\n",
      "No. of estimators: 85\n",
      "Validation error 30.297030311943562\n",
      "No. of estimators: 86\n",
      "Validation error 30.228424807122757\n",
      "No. of estimators: 87\n",
      "Validation error 30.062923971485354\n",
      "No. of estimators: 88\n",
      "Validation error 30.090975513934538\n",
      "No. of estimators: 89\n",
      "Validation error 29.91634848927644\n",
      "No. of estimators: 90\n",
      "Validation error 29.86243262756845\n",
      "No. of estimators: 91\n",
      "Validation error 29.408385810583116\n",
      "No. of estimators: 92\n",
      "Validation error 29.29042608906024\n",
      "No. of estimators: 93\n",
      "Validation error 29.176741155345184\n",
      "No. of estimators: 94\n",
      "Validation error 29.105138673323978\n",
      "No. of estimators: 95\n",
      "Validation error 29.08526879594903\n",
      "No. of estimators: 96\n",
      "Validation error 28.833419941169833\n",
      "No. of estimators: 97\n",
      "Validation error 28.941729543222614\n",
      "No. of estimators: 98\n",
      "Validation error 28.797520403262354\n",
      "No. of estimators: 99\n",
      "Validation error 28.83223991689484\n",
      "No. of estimators: 100\n",
      "Validation error 28.759769220895596\n",
      "No. of estimators: 101\n",
      "Validation error 28.81068381079928\n",
      "No. of estimators: 102\n",
      "Validation error 28.771064045077708\n",
      "No. of estimators: 103\n",
      "Validation error 28.58902772386607\n",
      "No. of estimators: 104\n",
      "Validation error 28.55190613999367\n",
      "No. of estimators: 105\n",
      "Validation error 28.474322031995055\n",
      "No. of estimators: 106\n",
      "Validation error 28.21304068473528\n",
      "No. of estimators: 107\n",
      "Validation error 28.145405746071845\n",
      "No. of estimators: 108\n",
      "Validation error 28.042271591216625\n",
      "No. of estimators: 109\n",
      "Validation error 28.052490390422467\n",
      "No. of estimators: 110\n",
      "Validation error 27.987110127565682\n",
      "No. of estimators: 111\n",
      "Validation error 27.772524849673342\n",
      "No. of estimators: 112\n",
      "Validation error 27.522208664478022\n",
      "No. of estimators: 113\n",
      "Validation error 27.501992587182055\n",
      "No. of estimators: 114\n",
      "Validation error 27.519365736496614\n",
      "No. of estimators: 115\n",
      "Validation error 27.534954404078906\n",
      "No. of estimators: 116\n",
      "Validation error 27.423513834292404\n",
      "No. of estimators: 117\n",
      "Validation error 27.34265308671425\n",
      "No. of estimators: 118\n",
      "Validation error 27.349818668394423\n"
     ]
    }
   ],
   "source": [
    "min_val_error = float(\"inf\")\n",
    "error_increasing = 0\n",
    "\n",
    "for n_estimators in range (1,1000):\n",
    "    gbr.n_estimators = n_estimators\n",
    "    gbr.fit(x_train, y_train)\n",
    "    \n",
    "    y_pred = gbr.predict(x_test)\n",
    "    val_error = mean_squared_error(y_test, y_pred)\n",
    "    \n",
    "    print('No. of estimators:', gbr.n_estimators)\n",
    "    print('Validation error', val_error)\n",
    "                 \n",
    "    if val_error<min_val_error:\n",
    "                 min_val_error = val_error \n",
    "                 \n",
    "    else:\n",
    "        error_increasing+=1\n",
    "        if error_increasing ==10:\n",
    "            break\n",
    "\n",
    "    "
   ]
  },
  {
   "cell_type": "code",
   "execution_count": 31,
   "metadata": {},
   "outputs": [
    {
     "data": {
      "text/plain": [
       "118"
      ]
     },
     "execution_count": 31,
     "metadata": {},
     "output_type": "execute_result"
    }
   ],
   "source": [
    "n_estimators"
   ]
  },
  {
   "cell_type": "code",
   "execution_count": 32,
   "metadata": {},
   "outputs": [],
   "source": [
    "x_train ,x_test, y_train, y_test = train_test_split(X, Y, test_size=0.2)"
   ]
  },
  {
   "cell_type": "code",
   "execution_count": 33,
   "metadata": {},
   "outputs": [],
   "source": [
    "gbr_best = GradientBoostingRegressor(max_depth=3, n_estimators = n_estimators)"
   ]
  },
  {
   "cell_type": "code",
   "execution_count": 34,
   "metadata": {},
   "outputs": [
    {
     "data": {
      "text/plain": [
       "GradientBoostingRegressor(alpha=0.9, criterion='friedman_mse', init=None,\n",
       "             learning_rate=0.1, loss='ls', max_depth=3, max_features=None,\n",
       "             max_leaf_nodes=None, min_impurity_decrease=0.0,\n",
       "             min_impurity_split=None, min_samples_leaf=1,\n",
       "             min_samples_split=2, min_weight_fraction_leaf=0.0,\n",
       "             n_estimators=118, n_iter_no_change=None, presort='auto',\n",
       "             random_state=None, subsample=1.0, tol=0.0001,\n",
       "             validation_fraction=0.1, verbose=0, warm_start=False)"
      ]
     },
     "execution_count": 34,
     "metadata": {},
     "output_type": "execute_result"
    }
   ],
   "source": [
    "gbr_best.fit(x_train, y_train)"
   ]
  },
  {
   "cell_type": "code",
   "execution_count": 36,
   "metadata": {},
   "outputs": [
    {
     "data": {
      "text/plain": [
       "0.888077294967838"
      ]
     },
     "execution_count": 36,
     "metadata": {},
     "output_type": "execute_result"
    }
   ],
   "source": [
    "y_pred =gbr_best.predict(x_test)\n",
    "r2_score(y_test, y_pred)"
   ]
  },
  {
   "cell_type": "code",
   "execution_count": null,
   "metadata": {},
   "outputs": [],
   "source": []
  }
 ],
 "metadata": {
  "kernelspec": {
   "display_name": "Python 3",
   "language": "python",
   "name": "python3"
  },
  "language_info": {
   "codemirror_mode": {
    "name": "ipython",
    "version": 3
   },
   "file_extension": ".py",
   "mimetype": "text/x-python",
   "name": "python",
   "nbconvert_exporter": "python",
   "pygments_lexer": "ipython3",
   "version": "3.7.3"
  }
 },
 "nbformat": 4,
 "nbformat_minor": 2
}
