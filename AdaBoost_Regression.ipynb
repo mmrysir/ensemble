{
 "cells": [
  {
   "cell_type": "code",
   "execution_count": 1,
   "metadata": {},
   "outputs": [],
   "source": [
    "import pandas as pd\n",
    "import matplotlib.pyplot as plt"
   ]
  },
  {
   "cell_type": "code",
   "execution_count": 2,
   "metadata": {},
   "outputs": [
    {
     "data": {
      "text/html": [
       "<div>\n",
       "<style scoped>\n",
       "    .dataframe tbody tr th:only-of-type {\n",
       "        vertical-align: middle;\n",
       "    }\n",
       "\n",
       "    .dataframe tbody tr th {\n",
       "        vertical-align: top;\n",
       "    }\n",
       "\n",
       "    .dataframe thead th {\n",
       "        text-align: right;\n",
       "    }\n",
       "</style>\n",
       "<table border=\"1\" class=\"dataframe\">\n",
       "  <thead>\n",
       "    <tr style=\"text-align: right;\">\n",
       "      <th></th>\n",
       "      <th>cement</th>\n",
       "      <th>slag</th>\n",
       "      <th>flyash</th>\n",
       "      <th>water</th>\n",
       "      <th>superplasticizer</th>\n",
       "      <th>coarseaggregate</th>\n",
       "      <th>fineaggregate</th>\n",
       "      <th>age</th>\n",
       "      <th>csMPa</th>\n",
       "    </tr>\n",
       "  </thead>\n",
       "  <tbody>\n",
       "    <tr>\n",
       "      <th>0</th>\n",
       "      <td>540.0</td>\n",
       "      <td>0.0</td>\n",
       "      <td>0.0</td>\n",
       "      <td>162.0</td>\n",
       "      <td>2.5</td>\n",
       "      <td>1040.0</td>\n",
       "      <td>676.0</td>\n",
       "      <td>28</td>\n",
       "      <td>79.99</td>\n",
       "    </tr>\n",
       "    <tr>\n",
       "      <th>1</th>\n",
       "      <td>540.0</td>\n",
       "      <td>0.0</td>\n",
       "      <td>0.0</td>\n",
       "      <td>162.0</td>\n",
       "      <td>2.5</td>\n",
       "      <td>1055.0</td>\n",
       "      <td>676.0</td>\n",
       "      <td>28</td>\n",
       "      <td>61.89</td>\n",
       "    </tr>\n",
       "    <tr>\n",
       "      <th>2</th>\n",
       "      <td>332.5</td>\n",
       "      <td>142.5</td>\n",
       "      <td>0.0</td>\n",
       "      <td>228.0</td>\n",
       "      <td>0.0</td>\n",
       "      <td>932.0</td>\n",
       "      <td>594.0</td>\n",
       "      <td>270</td>\n",
       "      <td>40.27</td>\n",
       "    </tr>\n",
       "    <tr>\n",
       "      <th>3</th>\n",
       "      <td>332.5</td>\n",
       "      <td>142.5</td>\n",
       "      <td>0.0</td>\n",
       "      <td>228.0</td>\n",
       "      <td>0.0</td>\n",
       "      <td>932.0</td>\n",
       "      <td>594.0</td>\n",
       "      <td>365</td>\n",
       "      <td>41.05</td>\n",
       "    </tr>\n",
       "    <tr>\n",
       "      <th>4</th>\n",
       "      <td>198.6</td>\n",
       "      <td>132.4</td>\n",
       "      <td>0.0</td>\n",
       "      <td>192.0</td>\n",
       "      <td>0.0</td>\n",
       "      <td>978.4</td>\n",
       "      <td>825.5</td>\n",
       "      <td>360</td>\n",
       "      <td>44.30</td>\n",
       "    </tr>\n",
       "  </tbody>\n",
       "</table>\n",
       "</div>"
      ],
      "text/plain": [
       "   cement   slag  flyash  water  superplasticizer  coarseaggregate  \\\n",
       "0   540.0    0.0     0.0  162.0               2.5           1040.0   \n",
       "1   540.0    0.0     0.0  162.0               2.5           1055.0   \n",
       "2   332.5  142.5     0.0  228.0               0.0            932.0   \n",
       "3   332.5  142.5     0.0  228.0               0.0            932.0   \n",
       "4   198.6  132.4     0.0  192.0               0.0            978.4   \n",
       "\n",
       "   fineaggregate  age  csMPa  \n",
       "0          676.0   28  79.99  \n",
       "1          676.0   28  61.89  \n",
       "2          594.0  270  40.27  \n",
       "3          594.0  365  41.05  \n",
       "4          825.5  360  44.30  "
      ]
     },
     "execution_count": 2,
     "metadata": {},
     "output_type": "execute_result"
    }
   ],
   "source": [
    "concrete_data = pd.read_csv('Concrete_Data_Yeh.csv')\n",
    "concrete_data.head()"
   ]
  },
  {
   "cell_type": "code",
   "execution_count": 3,
   "metadata": {},
   "outputs": [],
   "source": [
    "X = concrete_data.drop('csMPa', axis =1)\n",
    "Y = concrete_data['csMPa']"
   ]
  },
  {
   "cell_type": "code",
   "execution_count": 4,
   "metadata": {},
   "outputs": [],
   "source": [
    "from sklearn.model_selection import train_test_split\n",
    "x_train ,x_test, y_train, y_test = train_test_split(X, Y, test_size=0.2)"
   ]
  },
  {
   "cell_type": "code",
   "execution_count": 7,
   "metadata": {},
   "outputs": [],
   "source": [
    "from sklearn.ensemble import AdaBoostRegressor\n",
    "from sklearn.tree import DecisionTreeRegressor"
   ]
  },
  {
   "cell_type": "code",
   "execution_count": 9,
   "metadata": {},
   "outputs": [
    {
     "data": {
      "text/plain": [
       "AdaBoostRegressor(base_estimator=DecisionTreeRegressor(criterion='mse', max_depth=4, max_features=None,\n",
       "           max_leaf_nodes=None, min_impurity_decrease=0.0,\n",
       "           min_impurity_split=None, min_samples_leaf=1,\n",
       "           min_samples_split=2, min_weight_fraction_leaf=0.0,\n",
       "           presort=False, random_state=None, splitter='best'),\n",
       "         learning_rate=1.0, loss='linear', n_estimators=100,\n",
       "         random_state=None)"
      ]
     },
     "execution_count": 9,
     "metadata": {},
     "output_type": "execute_result"
    }
   ],
   "source": [
    "ada_reg = AdaBoostRegressor(DecisionTreeRegressor(max_depth=4),\n",
    "                           n_estimators = 100,\n",
    "                          learning_rate=1.0\n",
    "                           )\n",
    "                           \n",
    "ada_reg.fit(x_train, y_train)"
   ]
  },
  {
   "cell_type": "code",
   "execution_count": 10,
   "metadata": {},
   "outputs": [
    {
     "data": {
      "text/plain": [
       "array([1.71221544, 1.41479117, 1.59940737, 1.26892897, 0.82017722,\n",
       "       1.26652869, 1.04378415, 1.05334768, 1.09715361, 1.01665955,\n",
       "       0.86276561, 1.34790469, 0.7672637 , 0.92786188, 1.16007272,\n",
       "       1.03112071, 0.58671028, 1.65002239, 1.33619324, 0.94850003,\n",
       "       0.86908118, 1.07021454, 0.7841395 , 0.74464619, 0.64911958,\n",
       "       0.76696581, 1.2640655 , 1.08379009, 1.12664597, 1.70080417,\n",
       "       0.74989792, 1.1898088 , 1.56079048, 1.2775985 , 1.10244288,\n",
       "       0.76907639, 1.44358027, 0.85988595, 0.84534272, 1.30337536,\n",
       "       0.95548421, 1.40290657, 1.17395022, 0.51630738, 1.19443019,\n",
       "       1.68675331, 0.89906487, 0.8594668 , 0.55107464, 1.31664631,\n",
       "       1.17611148, 1.51515494, 1.24119589, 0.8331733 , 1.12786963,\n",
       "       1.39527257, 0.91634663, 0.99370237, 0.90829297, 1.15702754,\n",
       "       1.62851169, 1.30763793, 1.03111669, 0.94013826, 1.45765184,\n",
       "       0.96220185, 1.17416419, 1.15473697, 1.09196183, 0.86249644,\n",
       "       1.27030506, 1.20246637, 0.75367156, 1.36872822, 1.04069056,\n",
       "       1.28838622, 1.14037793, 0.92198406, 1.35116965, 1.47416222,\n",
       "       1.50296978, 0.9943988 , 0.75013424, 0.77017619, 0.87686096,\n",
       "       1.15035186, 1.22969729, 1.5384646 , 1.49905117, 0.9024757 ,\n",
       "       0.72270529, 0.92776491, 0.73710266, 1.69498502, 1.290344  ,\n",
       "       1.1883673 , 0.87846069, 0.94644702, 1.36984924, 0.74500802])"
      ]
     },
     "execution_count": 10,
     "metadata": {},
     "output_type": "execute_result"
    }
   ],
   "source": [
    "ada_reg.estimator_weights_"
   ]
  },
  {
   "cell_type": "code",
   "execution_count": 12,
   "metadata": {},
   "outputs": [],
   "source": [
    "y_pred =ada_reg.predict(x_test)"
   ]
  },
  {
   "cell_type": "code",
   "execution_count": 13,
   "metadata": {},
   "outputs": [
    {
     "data": {
      "text/plain": [
       "0.8104593501309469"
      ]
     },
     "execution_count": 13,
     "metadata": {},
     "output_type": "execute_result"
    }
   ],
   "source": [
    "from sklearn.metrics import r2_score\n",
    "r2_score(y_test, y_pred)"
   ]
  },
  {
   "cell_type": "code",
   "execution_count": 14,
   "metadata": {},
   "outputs": [
    {
     "data": {
      "text/plain": [
       "AdaBoostRegressor(base_estimator=DecisionTreeRegressor(criterion='mse', max_depth=2, max_features=None,\n",
       "           max_leaf_nodes=None, min_impurity_decrease=0.0,\n",
       "           min_impurity_split=None, min_samples_leaf=1,\n",
       "           min_samples_split=2, min_weight_fraction_leaf=0.0,\n",
       "           presort=False, random_state=None, splitter='best'),\n",
       "         learning_rate=0.5, loss='linear', n_estimators=200,\n",
       "         random_state=None)"
      ]
     },
     "execution_count": 14,
     "metadata": {},
     "output_type": "execute_result"
    }
   ],
   "source": [
    "ada_reg = AdaBoostRegressor(DecisionTreeRegressor(max_depth=2),\n",
    "                           n_estimators = 200,\n",
    "                          learning_rate=0.5\n",
    "                           )\n",
    "                           \n",
    "ada_reg.fit(x_train, y_train)"
   ]
  },
  {
   "cell_type": "code",
   "execution_count": 15,
   "metadata": {},
   "outputs": [
    {
     "data": {
      "text/plain": [
       "array([0.64616766, 0.60801177, 0.53416178, 0.64069835, 0.5877942 ,\n",
       "       0.43557112, 0.43884979, 0.50572443, 0.44174048, 0.50196227,\n",
       "       0.35419393, 0.36732851, 0.50252343, 0.39908158, 0.25169954,\n",
       "       0.52595022, 0.43654516, 0.29604808, 0.38398834, 0.52456577,\n",
       "       0.42175568, 0.2892566 , 0.48523888, 0.49901552, 0.36919827,\n",
       "       0.35793939, 0.51459132, 0.40786482, 0.36244742, 0.36671052,\n",
       "       0.31550313, 0.3816844 , 0.41758083, 0.24406974, 0.34179142,\n",
       "       0.43311205, 0.47676396, 0.49708076, 0.4045894 , 0.37963772,\n",
       "       0.26866987, 0.26495148, 0.33896618, 0.39940737, 0.5372523 ,\n",
       "       0.44050763, 0.35014283, 0.53616697, 0.3616738 , 0.43584637,\n",
       "       0.36024418, 0.32896921, 0.2801395 , 0.39338525, 0.46082918,\n",
       "       0.30286371, 0.22004623, 0.44798694, 0.39625016, 0.27752474,\n",
       "       0.3769911 , 0.41605332, 0.56944498, 0.30515793, 0.49125319,\n",
       "       0.28377322, 0.27081695, 0.42517591, 0.37001831, 0.27576393,\n",
       "       0.26765578, 0.34340347, 0.37171377, 0.28784927, 0.48273489,\n",
       "       0.49661454, 0.40058666, 0.26068306, 0.30097845, 0.37062813,\n",
       "       0.45331765, 0.48105644, 0.33343049, 0.39381122, 0.31729147,\n",
       "       0.38323512, 0.31664309, 0.37019216, 0.39670989, 0.17221756,\n",
       "       0.2120792 , 0.38583298, 0.24667746, 0.39542747, 0.38933935,\n",
       "       0.19795516, 0.36929217, 0.19045109, 0.26349422, 0.46222419,\n",
       "       0.26817429, 0.14335231, 0.3341478 , 0.30192587, 0.39070038,\n",
       "       0.51607393, 0.22952751, 0.28146666, 0.45881629, 0.29197267,\n",
       "       0.40867053, 0.42280066, 0.45088941, 0.30311337, 0.41560012,\n",
       "       0.30779455, 0.30440735, 0.23489825, 0.4936846 , 0.30535339,\n",
       "       0.2052414 , 0.36168189, 0.28155851, 0.29129166, 0.37105261,\n",
       "       0.14558443, 0.39056666, 0.17086375, 0.19777888, 0.27211744,\n",
       "       0.44547546, 0.14993066, 0.35313966, 0.15418321, 0.39779845,\n",
       "       0.18473757, 0.25808318, 0.37079533, 0.31971018, 0.35662864,\n",
       "       0.42138971, 0.17468071, 0.28170212, 0.45114284, 0.22623785,\n",
       "       0.53557201, 0.29268828, 0.41774524, 0.4033968 , 0.45191737,\n",
       "       0.28138725, 0.31826067, 0.40489926, 0.28974681, 0.25868723,\n",
       "       0.24420466, 0.34022187, 0.44145333, 0.33119117, 0.15190126,\n",
       "       0.31686546, 0.57342076, 0.39964996, 0.25792036, 0.44527079,\n",
       "       0.15647509, 0.29887487, 0.44087042, 0.40334237, 0.54443144,\n",
       "       0.21707861, 0.35806918, 0.33381106, 0.22896604, 0.26919064,\n",
       "       0.43738614, 0.35448233, 0.16271858, 0.24662612, 0.28449207,\n",
       "       0.39587893, 0.40289649, 0.30618736, 0.23870045, 0.44940058,\n",
       "       0.54851698, 0.34432721, 0.38155249, 0.24192876, 0.3808623 ,\n",
       "       0.16970701, 0.4062982 , 0.49246669, 0.43165187, 0.33626311,\n",
       "       0.3565039 , 0.37342577, 0.26421998, 0.32763902, 0.3314773 ])"
      ]
     },
     "execution_count": 15,
     "metadata": {},
     "output_type": "execute_result"
    }
   ],
   "source": [
    "ada_reg.estimator_weights_"
   ]
  },
  {
   "cell_type": "code",
   "execution_count": 16,
   "metadata": {},
   "outputs": [],
   "source": [
    "y_pred =ada_reg.predict(x_test)"
   ]
  },
  {
   "cell_type": "code",
   "execution_count": 17,
   "metadata": {},
   "outputs": [
    {
     "data": {
      "text/plain": [
       "0.6765346490163147"
      ]
     },
     "execution_count": 17,
     "metadata": {},
     "output_type": "execute_result"
    }
   ],
   "source": [
    "from sklearn.metrics import r2_score\n",
    "r2_score(y_test, y_pred)"
   ]
  },
  {
   "cell_type": "code",
   "execution_count": null,
   "metadata": {},
   "outputs": [],
   "source": []
  }
 ],
 "metadata": {
  "kernelspec": {
   "display_name": "Python 3",
   "language": "python",
   "name": "python3"
  },
  "language_info": {
   "codemirror_mode": {
    "name": "ipython",
    "version": 3
   },
   "file_extension": ".py",
   "mimetype": "text/x-python",
   "name": "python",
   "nbconvert_exporter": "python",
   "pygments_lexer": "ipython3",
   "version": "3.7.3"
  }
 },
 "nbformat": 4,
 "nbformat_minor": 2
}
